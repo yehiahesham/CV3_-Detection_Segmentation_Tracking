{
 "cells": [
  {
   "cell_type": "markdown",
   "metadata": {},
   "source": [
    "# Exercise 03\n",
    "## Re-ID with Graph Neural Networks\n",
    "\n",
    "In this exercise, we will first create an extension of the IoU- and ReID-based tracker we created in the previous exercise that will make it more robust to occlusions by allowing it to recover from missed detections.\n",
    "\n",
    "We will then implement a Message Passing Network that we will use to learn features that combine position and appearance information. On these edge features, we then base our prediction on associations between past tracks and new detections.\n",
    "\n",
    "<!-- TODO: adapt tasks --> \n",
    "Your tasks are the following:\n",
    "- Adapt the track management scheme of our Tracker to allow it to recover from missed detections.\n",
    "- Implement the Update Operation for the Message Passing Network to operate on bipartite graphs\n",
    "- Implement the pairwise motion feature computation to obtain initial features for the edges of our Message Passing Network\n",
    "- Train the Message Passing Network and improve your tracker's IDF1 score\n",
    "- Use the Message Passing Network instead of the distance matrix in the Tracker"
   ]
  },
  {
   "cell_type": "markdown",
   "metadata": {},
   "source": [
    "## Imports\n",
    "\n",
    "This will setup your whole environment such that you can work with the rest of the notebook.\n",
    "\n",
    "### General Imports"
   ]
  },
  {
   "cell_type": "code",
   "execution_count": 1,
   "metadata": {},
   "outputs": [
    {
     "name": "stderr",
     "output_type": "stream",
     "text": [
      "/home2/yehia.ahmed/SafeML_2/lib/python3.8/site-packages/tqdm/auto.py:22: TqdmWarning: IProgress not found. Please update jupyter and ipywidgets. See https://ipywidgets.readthedocs.io/en/stable/user_install.html\n",
      "  from .autonotebook import tqdm as notebook_tqdm\n"
     ]
    }
   ],
   "source": [
    "from pathlib import Path\n",
    "\n",
    "import torch\n",
    "from torch.utils.data import DataLoader"
   ]
  },
  {
   "cell_type": "markdown",
   "metadata": {},
   "source": [
    "## Set up directory paths and (optionally) mount in Google Colab\n",
    "If you work with google colab set the `USING_COLAB` variable to `True` and following cell to mount your gdrive."
   ]
  },
  {
   "cell_type": "code",
   "execution_count": 2,
   "metadata": {},
   "outputs": [],
   "source": [
    "USING_COLAB = False\n",
    "USE_CPU = False\n",
    "# Use the following lines if you want to use Google Colab\n",
    "# We presume you created a folder \"cv3dst\" within your main drive folder, and put the exercise there.\n",
    "# NOTE: terminate all other colab sessions that use GPU!\n",
    "# NOTE 2: Make sure the correct exercise folder (e.g exercise_03) is given.\n",
    "\n",
    "if USING_COLAB:\n",
    "    from google.colab import drive\n",
    "    import os\n",
    "\n",
    "    gdrive_path='/content/gdrive/MyDrive/cv3dst/exercise_03'\n",
    "\n",
    "    # This will mount your google drive under 'MyDrive'\n",
    "    drive.mount('/content/gdrive', force_remount=True)\n",
    "    # In order to access the files in this notebook we have to navigate to the correct folder\n",
    "    os.chdir(gdrive_path)\n",
    "    # Check manually if all files are present\n",
    "    print(sorted(os.listdir()))\n",
    "    root_dir = Path(gdrive_path).parent\n",
    "else:\n",
    "    root_dir = Path('/home2/yehia.ahmed/cv3/cv3dst')\n",
    "# NOTE: Also adjust the root_dir in test/hungarian_tracking.py\n",
    "\n",
    "dataset_dir = root_dir.joinpath(\"datasets\")\n",
    "output_dir = root_dir.joinpath('exercise_03', 'models')\n",
    "output_dir.mkdir(parents=True, exist_ok=True)\n",
    "\n",
    "device = torch.device('cuda') if torch.cuda.is_available() and not USE_CPU else torch.device('cpu')"
   ]
  },
  {
   "cell_type": "markdown",
   "metadata": {},
   "source": [
    "### Exercise Specific Imports"
   ]
  },
  {
   "cell_type": "code",
   "execution_count": 3,
   "metadata": {},
   "outputs": [],
   "source": [
    "\n",
    "from exercise_code import (\n",
    "    MOT16Sequences,\n",
    "    LongTrackTrainingDataset,\n",
    ")\n",
    "\n",
    "from exercise_code import (\n",
    "    Hungarian_TrackerIoUReID,\n",
    "    Longterm_Hungarian_TrackerIoUReID,\n",
    "    MPN_Tracker,\n",
    "    AssignmentSimilarityNet,\n",
    "    train_assign_net_one_epoch,\n",
    "    evaluate_assign_net,\n",
    ")\n",
    "\n",
    "from exercise_code.test import (\n",
    "    test_inactive_tracks,\n",
    "    test_neural_message_passing_1,\n",
    "    test_neural_message_passing_2,\n",
    "    test_mpn_tracking_forward_pass,\n",
    "    test_longterm_hungarian_tracking_ioureid,\n",
    "    test_mpn_tracking,\n",
    "    val_mpn_tracking,\n",
    "    run_tracker\n",
    ")\n",
    "\n",
    "%load_ext autoreload\n",
    "%autoreload 2\n",
    "%matplotlib inline"
   ]
  },
  {
   "cell_type": "markdown",
   "metadata": {},
   "source": [
    "# Exercise Part I - Long-Term ReID Tracker\n",
    "The tracker `Hungarian_TrackerIoUReID` in `exercise_code/model/hungarian_tracker.py` has an obvious limitation: whenever we can not match a track with the detections of a given frame, the track will be killed (line 54). Therefore, if our detector misses an object in a single frame (due to, e.g. occlusion), we will not be able to recover that track, and we will start a new one. \n",
    "\n",
    "We want to allow the tracker to maintain unmatched tracks to fix this issue and refer to these tracks as inactive. During data association, we try to match the detected boxes for the current frame to the active and inactive tracks. Therefore, if a detector misses an object in a frame and the object reappears after a few frames, we try to match it to its corresponding track instead of creating a new one.\n",
    "\n",
    "We use the `inactive` attribute from the `track` class in `exercise_code/model/tracker.py` to adapt our tracker. This attribute is a counter and shows how many frames a track has remained unmatched. Whenever we can match the track, we will set `inactive=0`; otherwise, we increase the counter. "
   ]
  },
  {
   "cell_type": "markdown",
   "metadata": {},
   "source": [
    "<div class=\"alert alert-info\">\n",
    "    <h3>Task: Inactive tracks</h3>\n",
    "    <p> Go to <code>exercise_code/hungarian_tracker.py</code> and the <code>update_tracks</code> method. You must update the <code>inactive</code> attribute for the unmatched tracks. Also, remove those tracks where the <code>inactive</code> counter is bigger than the <code>patience</code>.</p>\n",
    "</div>"
   ]
  },
  {
   "cell_type": "markdown",
   "metadata": {},
   "source": [
    "<div class=\"alert alert-danger\">\n",
    "    <h3>Test: Inactive tracks</h3>\n",
    "    <p> Run the following cell to execute the test case for the inactive tracker.</p>\n",
    "</div>"
   ]
  },
  {
   "cell_type": "code",
   "execution_count": 4,
   "metadata": {},
   "outputs": [
    {
     "name": "stdout",
     "output_type": "stream",
     "text": [
      "Congratulations: No tracks have been removed before patience was reached.\n",
      "Congratulations: No tracks have been removed before patience was reached. Counter is correct.\n",
      "Congratulations: Tracks have been removed after patience was reached.\n",
      "All tests of InactiveTracksTest passed. Tests passed: 3/3\n",
      "Score: 100/100\n"
     ]
    }
   ],
   "source": [
    "_ = test_inactive_tracks()"
   ]
  },
  {
   "cell_type": "markdown",
   "metadata": {},
   "source": [
    "If the previous test ran successfully you can now run the tracker on the validation sequence to evaluate its results."
   ]
  },
  {
   "cell_type": "code",
   "execution_count": 5,
   "metadata": {},
   "outputs": [
    {
     "name": "stdout",
     "output_type": "stream",
     "text": [
      "Runtime for all sequences: 1.3 s.\n"
     ]
    }
   ],
   "source": [
    "old_tracker = False\n",
    "if old_tracker:\n",
    "    tracker = Hungarian_TrackerIoUReID()\n",
    "else:\n",
    "    tracker = Longterm_Hungarian_TrackerIoUReID(patience=10)\n",
    "\n",
    "train_db = torch.load(dataset_dir.joinpath('reid_gnn', 'preprocessed_data_train_2.pth'))\n",
    "val_sequences = MOT16Sequences('MOT16-reid', root_dir = dataset_dir.joinpath('MOT16'), vis_threshold=0.)\n",
    "results_seq = run_tracker(val_sequences, train_db, tracker, device=device)"
   ]
  },
  {
   "cell_type": "code",
   "execution_count": 6,
   "metadata": {},
   "outputs": [],
   "source": [
    "torch.save(results_seq, \"exercise_code/test/\"+tracker.name+\".pth\")"
   ]
  },
  {
   "cell_type": "markdown",
   "metadata": {},
   "source": [
    "<div class=\"alert alert-danger\">\n",
    "    <h3>Test: Inactive tracks performance</h3>\n",
    "    <p> Run the following cell to execute the test case for the performance of the inactive tracker. The second row serves as a reference.</p>\n",
    "</div>"
   ]
  },
  {
   "cell_type": "code",
   "execution_count": 7,
   "metadata": {},
   "outputs": [
    {
     "name": "stdout",
     "output_type": "stream",
     "text": [
      "              IDF1       IDP       IDR      Rcll      Prcn  GT  MT  PT  ML   FP    FN  IDs   FM      MOTA      MOTP   IDt    IDa  IDm\n",
      "MOT16-02  0.457617  0.649832  0.353156  0.522469  0.961378  62  12  37  13  390  8873  133  210  0.494322  0.090339  17.0  119.0  5.0\n",
      "MOT16-02  0.457617  0.649832  0.353156  0.522469  0.961378  62  12  37  13  390  8873  133  210  0.494322  0.090339   NaN    NaN  NaN\n",
      "Congratulations: Longterm_Hungarian_TrackerIoUReID seems to be correct for sequence MOT16-02 based on the metrics: mota idf1.\n",
      "              IDF1       IDP       IDR      Rcll      Prcn   GT  MT  PT  ML   FP    FN  IDs   FM      MOTA      MOTP   IDt    IDa   IDm\n",
      "MOT16-05  0.583493  0.690091  0.505421  0.688304  0.939795  133  54  67  12  305  2156  289  149  0.602429  0.141942  71.0  226.0  13.0\n",
      "MOT16-05  0.583493  0.690091  0.505421  0.688304  0.939795  133  54  67  12  305  2156  289  149  0.602429  0.141942   NaN    NaN   NaN\n",
      "Congratulations: Longterm_Hungarian_TrackerIoUReID seems to be correct for sequence MOT16-05 based on the metrics: mota idf1.\n",
      "              IDF1       IDP       IDR      Rcll     Prcn  GT  MT  PT  ML  FP    FN  IDs  FM     MOTA      MOTP   IDt   IDa  IDm\n",
      "MOT16-09  0.508558  0.628943  0.426854  0.663286  0.97731  26  13  12   1  82  1793   51  76  0.63831  0.082643  12.0  42.0  4.0\n",
      "MOT16-09  0.508558  0.628943  0.426854  0.663286  0.97731  26  13  12   1  82  1793   51  76  0.63831  0.082643   NaN   NaN  NaN\n",
      "Congratulations: Longterm_Hungarian_TrackerIoUReID seems to be correct for sequence MOT16-09 based on the metrics: mota idf1.\n",
      "              IDF1      IDP       IDR      Rcll      Prcn  GT  MT  PT  ML   FP    FN  IDs  FM      MOTA      MOTP   IDt    IDa  IDm\n",
      "MOT16-11  0.650489  0.71715  0.595167  0.801717  0.966032  75  44  24   7  266  1871  143  91  0.758372  0.082736  24.0  121.0  3.0\n",
      "MOT16-11  0.650489  0.71715  0.595167  0.801717  0.966032  75  44  24   7  266  1871  143  91  0.758372  0.082736   NaN    NaN  NaN\n",
      "Congratulations: Longterm_Hungarian_TrackerIoUReID seems to be correct for sequence MOT16-11 based on the metrics: mota idf1.\n",
      "Method () correctly implemented. Tests passed: 4/4\n",
      "              MOTA\n",
      "MOT16-02  0.494322\n",
      "MOT16-05  0.602429\n",
      "MOT16-09  0.638310\n",
      "MOT16-11  0.758372\n",
      "Your tracker Longterm_Hungarian_TrackerIoUReID reached the mean mota 0.62 on sequence MOT16-reid.\n",
      "Test passed 62/100\n",
      "Score: 81/100\n"
     ]
    }
   ],
   "source": [
    "_ = test_longterm_hungarian_tracking_ioureid()"
   ]
  },
  {
   "cell_type": "markdown",
   "metadata": {},
   "source": [
    "## Part II - Building a tracker based on Neural Message Passing\n",
    "\n",
    "Our ``Longterm_Hungarian_TrackerIoUReID`` is still limited when compared to current modern trackers. One disadvantage is that our tracker can only account for pairwise similarities among objects. Ideally, we would like it also to consider higher-order information.\n",
    "\n",
    "To address this limitation, we will now build a tracker combining appearance and position information with a Message Passing Neural Network, inspired by the approach presented in [0].\n",
    "\n",
    "The idea is to build a bipartite graph containing two sets of nodes for every tracking step: past tracks $A$ and detections $B$ in the current frame, and our set of edges will be $A\\times B$. That is, we will connect every past track with every detection.\n",
    "We will have initial node features (i.e. reid embeddings) matrices: $X_A \\in \\R^{|A| \\times \\text{node\\_dim}}$ and $X_B \\in \\R^{|B|\\times \\text{node\\_dim}}$ and an initial edge features tensor $E\\in \\R^{|A| \\times |B| \\times \\text{edge\\_dim}}$.\n",
    "That means its $(i, j)$-th entry contains the edge features between node $i$ in $A$ and node $j$ in $B$.\n",
    "\n",
    "We will use an MPN to refine these edge embeddings. For this, we will first build a Neural Message Passing layer based on the Graph Networks framework introduced in [1], as explained in the *A More General Framework* slides of [Lecture 5](https://youtu.be/BR3Y5bAz5Dw) (slides 70 to 75) of the old lecture recordings.\n",
    "\n",
    "With the given layer, we will produce new node feature matrices $X_A'$ and $X_B'$ and edge features $E'$ with the same dimensionality.\n",
    "The learning task will be to classify the edge embeddings in this graph, which is equivalent to predicting the entries of our data association similarity matrix. \n",
    "\n",
    "[0] [Learning a Neural Solver for Multiple Object Tracking](https://arxiv.org/abs/1912.07515)\n",
    "\n",
    "[1] [Relational inductive biases, deep learning, and graph networks](https://arxiv.org/abs/1806.01261)\n",
    "\n",
    "[2] [Brasó and Leal-Taixé, Learning a Neural Solver for Multiple Object Tracking, CVPR 2020](https://arxiv.org/abs/1912.07515)\n",
    "\n",
    "[3] [Battaglia et al., Relational inductive biases, deep learning, and graph networks, arXiv 2018](https://arxiv.org/abs/1806.01261)\n"
   ]
  },
  {
   "cell_type": "markdown",
   "metadata": {},
   "source": [
    "\n",
    "<div class=\"alert alert-info\">\n",
    "    <h3>Task: Neural Message Passing I</h3>\n",
    "    <p> You have to implement a part of the neural message passing layer by adding the node and edge update steps. Go to <code>exercise_code/model/assign_net.py</code> and the class <code>BipartiteNeuralMessagePassingLayer</code>. There you need to complete the methods <code>edge_update(self, edge_embeds, nodes_a_embeds, nodes_b_embeds)</code> and <code>node_update(self, edge_embeds, nodes_a_embeds, nodes_b_embeds)</code>.\n",
    "    <br>\n",
    "    Note: You do not need to care about batching several graphs. This implementation will only work with a single graph at a time.\n",
    "    </p>\n",
    "</div>"
   ]
  },
  {
   "cell_type": "code",
   "execution_count": 8,
   "metadata": {},
   "outputs": [
    {
     "name": "stdout",
     "output_type": "stream",
     "text": [
      "Congratulations: The shape of the Edge Update seems to be correct\n",
      "Congratulations: The shape of the Node Update seems to be correct\n",
      "Congratulations: The input to the node MLP seems to be correct\n",
      "Congratulations: The input to the edge MLP seems to be correct\n",
      "All tests of NeuralMessagePassing passed. Tests passed: 4/4\n",
      "Score: 100/100\n"
     ]
    }
   ],
   "source": [
    "_ = test_neural_message_passing_1()"
   ]
  },
  {
   "cell_type": "markdown",
   "metadata": {},
   "source": [
    "## Building the entire network to predict similarities\n",
    "We now build the network that generates initial node and edge features, performs neural message passing, and classifies edges in order to produce the final costs that we will use for data association.\n",
    "\n",
    "[2] proposes, given two bounding boxes $(x_i, y_i, w_i, h_i)$ and  $(x_j, y_j, w_j, h_j)$ and timestamps $t_i$ and $t_j$, to compute an initial 5-dimensional edge feature vector as:\n",
    "$$ E_{(i, j)} = \\left(\\frac{2(x_j - x_i)}{h_i + h_j}, \\frac{2(y_j - y_i)}{h_i + h_j}, \\log{\\frac{h_i}{h_j}}, \\log{\\frac{w_i}{w_j}}, t_j - t_i \\right )$$"
   ]
  },
  {
   "cell_type": "markdown",
   "metadata": {},
   "source": [
    "<div class=\"alert alert-info\">\n",
    "    <h3>Task: Neural Message Passing II</h3>\n",
    "    <p> Go to <code>exercise_code/model/message_passing_network.py</code> and the class <code>AssignmentSimilarityNet</code>. There you need to complete the methods <code>compute_motion_edge_feats(self, track_coords, current_coords, track_t, curr_t)</code> method. Previously, we used the IoU between predictions and detections as motion prior. Now, you can use the edge feature proposed in [1] as detailed in the cell above.\n",
    "    <br>\n",
    "    Feel free to engineer your own features (e.g. use IoU, etc.)</p>\n",
    "</div>"
   ]
  },
  {
   "cell_type": "markdown",
   "metadata": {},
   "source": [
    "<div class=\"alert alert-danger\">\n",
    "    <h3>Test: Neural Message Passing</h3>\n",
    "    <p> Run the following cell to execute the test case for the second task of regarding neural message passing. This test will check the correct implementation of the given feature vector. If you implemented your own feature vector, this test will likely fail. However, you can adjust the feature dimension accordingly to pass the shape test. </p>\n",
    "</div>"
   ]
  },
  {
   "cell_type": "code",
   "execution_count": 9,
   "metadata": {},
   "outputs": [
    {
     "name": "stdout",
     "output_type": "stream",
     "text": [
      "Congratulations: The shape of the Edge Initialization seems to be correct\n",
      "All tests of NeuralMessagePassing passed. Tests passed: 1/1\n",
      "Score: 100/100\n"
     ]
    }
   ],
   "source": [
    "_ = test_neural_message_passing_2()"
   ]
  },
  {
   "cell_type": "markdown",
   "metadata": {},
   "source": [
    "## Putting everything together\n",
    "Finally, we test our ``AssignmentSimilarityNet``, which will output a refined similarity matrix, which we can use for linear assignment. The forward pass through the assignment net will initialize the edge and node features and run the specified number of update iterations. The output is then a tensor of similarity matrices whose first dimension is the number of update steps."
   ]
  },
  {
   "cell_type": "markdown",
   "metadata": {},
   "source": [
    "\n",
    "Finally, we can integrate the AssignmentNet into our Tracker. We can keep everything as in ``LongTermReIDHungarianTracker`` except for the distance computation, which is now directly obtained via a forward pass through AssignmentSimilarityNet. "
   ]
  },
  {
   "cell_type": "markdown",
   "metadata": {},
   "source": [
    "<div class=\"alert alert-info\">\n",
    "    <h3>Task: Doing a Forward Pass</h3>\n",
    "    <p> Go to <code>exercise_code/model/message_passing_network.py</code> and the class <code>MPN_Tracker</code>. There you need perform a forward pass through the <code>AssignmenSimilarityNet</code>.\n",
    "</div>"
   ]
  },
  {
   "cell_type": "markdown",
   "metadata": {},
   "source": [
    "<div class=\"alert alert-danger\">\n",
    "    <h3>Test: Doing a Forward Pass</h3>\n",
    "    <p> Run the following cell to execute the test case for running a forward pass.</p>\n",
    "</div>"
   ]
  },
  {
   "cell_type": "code",
   "execution_count": 10,
   "metadata": {},
   "outputs": [
    {
     "name": "stdout",
     "output_type": "stream",
     "text": [
      "Congratulations: The forward pass seems to work\n",
      "All tests of ForwardPassTest passed. Tests passed: 1/1\n",
      "Score: 100/100\n"
     ]
    }
   ],
   "source": [
    "_ = test_mpn_tracking_forward_pass()"
   ]
  },
  {
   "cell_type": "markdown",
   "metadata": {},
   "source": [
    "## Training and evaluating our model\n",
    "\n",
    "We provide all boilerplate code for training and evaluating our neural message passing tracker. Under the hood, we randomly sample boxes of frames from our training sequences to generate $A$. Then, we add sampled boxes from past frames to generate our second set $B$. Check out `LongTrackTrainingDataset` for details.\n",
    "\n",
    "We train the model with a weighted cross-entropy loss to account for the class imbalance and add a weight $w>1$ for the positive samples in the binary cross-entropy loss. Check out `exercise_code/model/trainer.py`.\n",
    "$$\n",
    "\\sum_{{i,j}} w \\cdot y_{i,j} \\log\\left(\\hat{y}_{i,j} \\right) + \\left(1-y_{i,j}\\right)\\log\\left(1- \\hat{y}_{i,j}\\right),\n",
    "$$ where $$y_{i,j} \\in\\{ 0,1\\}$$ is one, if the edge is a match in the training data and zero, otherwise. The variable $$\\hat{y_{i,j}} \\in[0,1]$$ denotes the learned output probability of the edge being active, which we use for classification. No need to write any code from your side here!\n",
    "\n",
    "Expert Knowledge: The binary cross entropy loss is minimizing the likelihood of statistically independent Bernoulli Experiments with success probability $\\hat{y}_{i,j}\\in[0,1]$\n",
    "$$\n",
    "\\operatorname{arg}\\min \\prod_{i,j} \\hat{y}_{i,j}^{y_{i,j}} +  (1-\\hat{y}_{i,j})^{(1-{y_{i,j}})}.\n",
    "$$\n",
    "How is the weighted cross-entropy loss related to unbalanced data?\n",
    "It penalizes more positive labels that are falsely classified, hence helping increase recall; you can expect your ML model to become more sensitive in correctly classifying positive cases out of all actual positives.\n",
    "(Note: Recall=TP/P=TP/(TP+FN))"
   ]
  },
  {
   "cell_type": "code",
   "execution_count": 30,
   "metadata": {},
   "outputs": [],
   "source": [
    "# Define our model, and init \n",
    "assign_net = AssignmentSimilarityNet(reid_network=None, # Not needed since we work with precomputed features\n",
    "                                     node_dim=32, \n",
    "                                     edge_dim=64, \n",
    "                                     reid_dim=512, \n",
    "                                     edges_in_dim=6, \n",
    "                                     num_steps=10).to(device)"
   ]
  },
  {
   "cell_type": "markdown",
   "metadata": {},
   "source": [
    "We only leave two sequences for validation in order to maximize the amount of training data."
   ]
  },
  {
   "cell_type": "code",
   "execution_count": 31,
   "metadata": {},
   "outputs": [],
   "source": [
    "MAX_PATIENCE = 20\n",
    "train_db = torch.load(dataset_dir.joinpath('reid_gnn', 'preprocessed_data_train_2.pth'))\n",
    "# We only keep two sequences for validation\n",
    "dataset = LongTrackTrainingDataset(dataset='MOT16-train_wo_val', \n",
    "                                   db=train_db, \n",
    "                                   root_dir=dataset_dir.joinpath('MOT16'),\n",
    "                                   max_past_frames=MAX_PATIENCE,\n",
    "                                   vis_threshold=0.25)\n",
    "data_loader = DataLoader(dataset, \n",
    "                        batch_size=20, \n",
    "                        collate_fn=lambda x: x,\n",
    "                        shuffle=True,\n",
    "                        num_workers=2,\n",
    "                        drop_last=True)\n",
    "dataset_val = LongTrackTrainingDataset(dataset='MOT16-val', \n",
    "                                   db=train_db, \n",
    "                                   root_dir=dataset_dir.joinpath('MOT16'),\n",
    "                                   max_past_frames=MAX_PATIENCE,\n",
    "                                   vis_threshold=0.25)\n",
    "data_loader_val = DataLoader(dataset_val, \n",
    "                        batch_size=20, \n",
    "                        collate_fn=lambda x: x,\n",
    "                        shuffle=True,\n",
    "                        num_workers=2,\n",
    "                        drop_last=True)\n",
    "val_sequences = MOT16Sequences('MOT16-val', \n",
    "                        dataset_dir.joinpath('MOT16'),\n",
    "                        vis_threshold=0.25)"
   ]
  },
  {
   "cell_type": "markdown",
   "metadata": {},
   "source": [
    "### Let's start training!\n",
    "\n",
    "Note that we have observed quite a lot of noise in validation scores among epochs and runs. That is due to the small size of our training and validation sets. Therefore, we perform early stopping to obtain the best-performing model on validation. In addition, changing the experiment seed and/ or relaunching the training might help if you suspect noise influencing your scores. "
   ]
  },
  {
   "cell_type": "code",
   "execution_count": 32,
   "metadata": {},
   "outputs": [
    {
     "name": "stdout",
     "output_type": "stream",
     "text": [
      "-------- EPOCH  1 --------\n",
      "cuda:0\n"
     ]
    },
    {
     "name": "stderr",
     "output_type": "stream",
     "text": [
      "0it [00:00, ?it/s]"
     ]
    },
    {
     "name": "stderr",
     "output_type": "stream",
     "text": [
      "100it [00:23,  4.46it/s]"
     ]
    },
    {
     "name": "stdout",
     "output_type": "stream",
     "text": [
      "Iter 100. Loss: 12.337. Accuracy: 0.911. Recall: 0.665. Precision: 0.385\n"
     ]
    },
    {
     "name": "stderr",
     "output_type": "stream",
     "text": [
      "111it [00:25,  4.33it/s]"
     ]
    },
    {
     "name": "stdout",
     "output_type": "stream",
     "text": [
      "-------- Validation --------\n"
     ]
    },
    {
     "name": "stderr",
     "output_type": "stream",
     "text": [
      "\n",
      "74it [00:08,  9.25it/s]\n"
     ]
    },
    {
     "name": "stdout",
     "output_type": "stream",
     "text": [
      "Iter 74. Loss: 861.232. Accuracy: 0.998. Recall: 0.995. Precision: 0.970\n",
      "Runtime for all sequences: 5.8 s.\n",
      "              IDF1\n",
      "MOT16-02  0.421981\n",
      "MOT16-11  0.665779\n",
      "Your tracker MPN_Tracker reached the mean idf1 0.54 on sequence MOT16-val.\n",
      "Test passed 54/100\n",
      "-------- EPOCH  2 --------\n",
      "cuda:0\n"
     ]
    },
    {
     "name": "stderr",
     "output_type": "stream",
     "text": [
      "100it [00:23,  4.43it/s]"
     ]
    },
    {
     "name": "stdout",
     "output_type": "stream",
     "text": [
      "Iter 100. Loss: 10.581. Accuracy: 0.993. Recall: 0.992. Precision: 0.895\n"
     ]
    },
    {
     "name": "stderr",
     "output_type": "stream",
     "text": [
      "111it [00:25,  4.29it/s]"
     ]
    },
    {
     "name": "stdout",
     "output_type": "stream",
     "text": [
      "-------- Validation --------\n"
     ]
    },
    {
     "name": "stderr",
     "output_type": "stream",
     "text": [
      "\n",
      "74it [00:08,  9.17it/s]\n"
     ]
    },
    {
     "name": "stdout",
     "output_type": "stream",
     "text": [
      "Iter 74. Loss: 860.630. Accuracy: 0.995. Recall: 0.996. Precision: 0.933\n",
      "Runtime for all sequences: 5.4 s.\n",
      "              IDF1\n",
      "MOT16-02  0.412567\n",
      "MOT16-11  0.661956\n",
      "Your tracker MPN_Tracker reached the mean idf1 0.54 on sequence MOT16-val.\n",
      "Test passed 54/100\n",
      "-------- EPOCH  3 --------\n",
      "cuda:0\n"
     ]
    },
    {
     "name": "stderr",
     "output_type": "stream",
     "text": [
      "100it [00:23,  4.39it/s]"
     ]
    },
    {
     "name": "stdout",
     "output_type": "stream",
     "text": [
      "Iter 100. Loss: 10.513. Accuracy: 0.996. Recall: 0.994. Precision: 0.942\n"
     ]
    },
    {
     "name": "stderr",
     "output_type": "stream",
     "text": [
      "111it [00:25,  4.29it/s]"
     ]
    },
    {
     "name": "stdout",
     "output_type": "stream",
     "text": [
      "-------- Validation --------\n"
     ]
    },
    {
     "name": "stderr",
     "output_type": "stream",
     "text": [
      "\n",
      "74it [00:08,  9.13it/s]\n"
     ]
    },
    {
     "name": "stdout",
     "output_type": "stream",
     "text": [
      "Iter 74. Loss: 860.156. Accuracy: 0.996. Recall: 0.996. Precision: 0.940\n",
      "Runtime for all sequences: 5.6 s.\n",
      "              IDF1\n",
      "MOT16-02  0.420935\n",
      "MOT16-11  0.674929\n",
      "Your tracker MPN_Tracker reached the mean idf1 0.55 on sequence MOT16-val.\n",
      "Test passed 55/100\n",
      "-------- EPOCH  4 --------\n",
      "cuda:0\n"
     ]
    },
    {
     "name": "stderr",
     "output_type": "stream",
     "text": [
      "100it [00:22,  4.51it/s]"
     ]
    },
    {
     "name": "stdout",
     "output_type": "stream",
     "text": [
      "Iter 100. Loss: 10.538. Accuracy: 0.997. Recall: 0.995. Precision: 0.955\n"
     ]
    },
    {
     "name": "stderr",
     "output_type": "stream",
     "text": [
      "111it [00:25,  4.38it/s]"
     ]
    },
    {
     "name": "stdout",
     "output_type": "stream",
     "text": [
      "-------- Validation --------\n"
     ]
    },
    {
     "name": "stderr",
     "output_type": "stream",
     "text": [
      "\n",
      "74it [00:08,  9.18it/s]\n"
     ]
    },
    {
     "name": "stdout",
     "output_type": "stream",
     "text": [
      "Iter 74. Loss: 860.296. Accuracy: 0.997. Recall: 0.995. Precision: 0.967\n",
      "Runtime for all sequences: 6.1 s.\n",
      "              IDF1\n",
      "MOT16-02  0.438300\n",
      "MOT16-11  0.675972\n",
      "Your tracker MPN_Tracker reached the mean idf1 0.56 on sequence MOT16-val.\n",
      "Test passed 56/100\n",
      "-------- EPOCH  5 --------\n",
      "cuda:0\n"
     ]
    },
    {
     "name": "stderr",
     "output_type": "stream",
     "text": [
      "100it [00:22,  4.53it/s]"
     ]
    },
    {
     "name": "stdout",
     "output_type": "stream",
     "text": [
      "Iter 100. Loss: 10.592. Accuracy: 0.998. Recall: 0.995. Precision: 0.963\n"
     ]
    },
    {
     "name": "stderr",
     "output_type": "stream",
     "text": [
      "111it [00:25,  4.39it/s]"
     ]
    },
    {
     "name": "stdout",
     "output_type": "stream",
     "text": [
      "-------- Validation --------\n"
     ]
    },
    {
     "name": "stderr",
     "output_type": "stream",
     "text": [
      "\n",
      "74it [00:08,  9.13it/s]\n"
     ]
    },
    {
     "name": "stdout",
     "output_type": "stream",
     "text": [
      "Iter 74. Loss: 857.264. Accuracy: 0.998. Recall: 0.996. Precision: 0.971\n",
      "Runtime for all sequences: 5.6 s.\n",
      "              IDF1\n",
      "MOT16-02  0.442693\n",
      "MOT16-11  0.670643\n",
      "Your tracker MPN_Tracker reached the mean idf1 0.56 on sequence MOT16-val.\n",
      "Test passed 56/100\n",
      "-------- EPOCH  6 --------\n",
      "cuda:0\n"
     ]
    },
    {
     "name": "stderr",
     "output_type": "stream",
     "text": [
      "100it [00:22,  4.29it/s]"
     ]
    },
    {
     "name": "stdout",
     "output_type": "stream",
     "text": [
      "Iter 100. Loss: 10.451. Accuracy: 0.998. Recall: 0.996. Precision: 0.970\n"
     ]
    },
    {
     "name": "stderr",
     "output_type": "stream",
     "text": [
      "111it [00:25,  4.40it/s]"
     ]
    },
    {
     "name": "stdout",
     "output_type": "stream",
     "text": [
      "-------- Validation --------\n"
     ]
    },
    {
     "name": "stderr",
     "output_type": "stream",
     "text": [
      "\n",
      "74it [00:08,  9.21it/s]\n"
     ]
    },
    {
     "name": "stdout",
     "output_type": "stream",
     "text": [
      "Iter 74. Loss: 857.206. Accuracy: 0.999. Recall: 0.996. Precision: 0.981\n",
      "Runtime for all sequences: 5.6 s.\n",
      "              IDF1\n",
      "MOT16-02  0.442345\n",
      "MOT16-11  0.675972\n",
      "Your tracker MPN_Tracker reached the mean idf1 0.56 on sequence MOT16-val.\n",
      "Test passed 56/100\n",
      "-------- EPOCH  7 --------\n",
      "cuda:0\n"
     ]
    },
    {
     "name": "stderr",
     "output_type": "stream",
     "text": [
      "100it [00:22,  4.46it/s]"
     ]
    },
    {
     "name": "stdout",
     "output_type": "stream",
     "text": [
      "Iter 100. Loss: 10.567. Accuracy: 0.998. Recall: 0.996. Precision: 0.977\n"
     ]
    },
    {
     "name": "stderr",
     "output_type": "stream",
     "text": [
      "111it [00:25,  4.38it/s]"
     ]
    },
    {
     "name": "stdout",
     "output_type": "stream",
     "text": [
      "-------- Validation --------\n"
     ]
    },
    {
     "name": "stderr",
     "output_type": "stream",
     "text": [
      "\n",
      "74it [00:07,  9.36it/s]\n"
     ]
    },
    {
     "name": "stdout",
     "output_type": "stream",
     "text": [
      "Iter 74. Loss: 858.679. Accuracy: 0.999. Recall: 0.997. Precision: 0.980\n",
      "Runtime for all sequences: 5.8 s.\n",
      "              IDF1\n",
      "MOT16-02  0.460267\n",
      "MOT16-11  0.673771\n",
      "Your tracker MPN_Tracker reached the mean idf1 0.57 on sequence MOT16-val.\n",
      "Test passed 57/100\n",
      "-------- EPOCH  8 --------\n",
      "cuda:0\n"
     ]
    },
    {
     "name": "stderr",
     "output_type": "stream",
     "text": [
      "100it [00:23,  4.32it/s]"
     ]
    },
    {
     "name": "stdout",
     "output_type": "stream",
     "text": [
      "Iter 100. Loss: 10.591. Accuracy: 0.998. Recall: 0.996. Precision: 0.978\n"
     ]
    },
    {
     "name": "stderr",
     "output_type": "stream",
     "text": [
      "111it [00:25,  4.29it/s]"
     ]
    },
    {
     "name": "stdout",
     "output_type": "stream",
     "text": [
      "-------- Validation --------\n"
     ]
    },
    {
     "name": "stderr",
     "output_type": "stream",
     "text": [
      "\n",
      "74it [00:07,  9.32it/s]\n"
     ]
    },
    {
     "name": "stdout",
     "output_type": "stream",
     "text": [
      "Iter 74. Loss: 858.523. Accuracy: 0.998. Recall: 0.997. Precision: 0.976\n",
      "Runtime for all sequences: 5.4 s.\n",
      "              IDF1\n",
      "MOT16-02  0.464521\n",
      "MOT16-11  0.682574\n",
      "Your tracker MPN_Tracker reached the mean idf1 0.57 on sequence MOT16-val.\n",
      "Test passed 57/100\n",
      "-------- EPOCH  9 --------\n",
      "cuda:0\n"
     ]
    },
    {
     "name": "stderr",
     "output_type": "stream",
     "text": [
      "100it [00:23,  4.28it/s]"
     ]
    },
    {
     "name": "stdout",
     "output_type": "stream",
     "text": [
      "Iter 100. Loss: 10.548. Accuracy: 0.999. Recall: 0.997. Precision: 0.982\n"
     ]
    },
    {
     "name": "stderr",
     "output_type": "stream",
     "text": [
      "111it [00:25,  4.32it/s]"
     ]
    },
    {
     "name": "stdout",
     "output_type": "stream",
     "text": [
      "-------- Validation --------\n"
     ]
    },
    {
     "name": "stderr",
     "output_type": "stream",
     "text": [
      "\n",
      "74it [00:08,  9.16it/s]\n"
     ]
    },
    {
     "name": "stdout",
     "output_type": "stream",
     "text": [
      "Iter 74. Loss: 857.108. Accuracy: 0.999. Recall: 0.997. Precision: 0.982\n",
      "Runtime for all sequences: 5.6 s.\n",
      "              IDF1\n",
      "MOT16-02  0.468287\n",
      "MOT16-11  0.677246\n",
      "Your tracker MPN_Tracker reached the mean idf1 0.57 on sequence MOT16-val.\n",
      "Test passed 57/100\n",
      "-------- EPOCH 10 --------\n",
      "cuda:0\n"
     ]
    },
    {
     "name": "stderr",
     "output_type": "stream",
     "text": [
      "100it [00:22,  4.49it/s]"
     ]
    },
    {
     "name": "stdout",
     "output_type": "stream",
     "text": [
      "Iter 100. Loss: 10.516. Accuracy: 0.998. Recall: 0.997. Precision: 0.979\n"
     ]
    },
    {
     "name": "stderr",
     "output_type": "stream",
     "text": [
      "111it [00:25,  4.37it/s]"
     ]
    },
    {
     "name": "stdout",
     "output_type": "stream",
     "text": [
      "-------- Validation --------\n"
     ]
    },
    {
     "name": "stderr",
     "output_type": "stream",
     "text": [
      "\n",
      "74it [00:08,  9.14it/s]\n"
     ]
    },
    {
     "name": "stdout",
     "output_type": "stream",
     "text": [
      "Iter 74. Loss: 857.888. Accuracy: 0.999. Recall: 0.997. Precision: 0.983\n",
      "Runtime for all sequences: 5.6 s.\n",
      "              IDF1\n",
      "MOT16-02  0.469472\n",
      "MOT16-11  0.673076\n",
      "Your tracker MPN_Tracker reached the mean idf1 0.57 on sequence MOT16-val.\n",
      "Test passed 57/100\n"
     ]
    }
   ],
   "source": [
    "# Init the optimizer and lr scheduler\n",
    "optimizer = torch.optim.Adam(assign_net.parameters(), lr=0.001)\n",
    "scheduler = torch.optim.lr_scheduler.StepLR(optimizer, step_size=5)\n",
    "MAX_EPOCHS = 10 # adjust this for longer training, if you have problems with your GPU, try to train only for one epoch and continue with the rest of the exercise\n",
    "EVAL_FREQ = 1\n",
    "\n",
    "score_best = 0\n",
    "for epoch in range(1, MAX_EPOCHS + 1):\n",
    "    print(f\"-------- EPOCH {epoch:2d} --------\")\n",
    "    train_assign_net_one_epoch(model=assign_net, data_loader=data_loader, optimizer=optimizer, print_freq=100)\n",
    "    scheduler.step()\n",
    "\n",
    "    if epoch % EVAL_FREQ == 0:\n",
    "        print(f\"-------- Validation --------\")\n",
    "        # validation on long tracking dataset\n",
    "        metrics_accum = evaluate_assign_net(model=assign_net.eval(), data_loader=data_loader_val)\n",
    "        # validation using the tracker\n",
    "        tracker = MPN_Tracker(assign_net=assign_net.eval(), patience=MAX_PATIENCE)\n",
    "        results_seq = run_tracker(val_sequences, db=train_db, tracker=tracker, device=device)\n",
    "        torch.save(results_seq, \"exercise_code/test/\"+tracker.name+\".pth\")\n",
    "        score = val_mpn_tracking()\n",
    "        if score>score_best:\n",
    "            score_best=score\n",
    "            torch.save(assign_net, output_dir.joinpath(\"assign_net.pth\"))\n"
   ]
  },
  {
   "cell_type": "code",
   "execution_count": 33,
   "metadata": {},
   "outputs": [],
   "source": [
    "torch.save(assign_net, output_dir.joinpath(\"assign_net.pth\"))"
   ]
  },
  {
   "cell_type": "code",
   "execution_count": 34,
   "metadata": {},
   "outputs": [
    {
     "name": "stdout",
     "output_type": "stream",
     "text": [
      "Runtime for all sequences: 5.5 s.\n"
     ]
    }
   ],
   "source": [
    "assign_net = torch.load( output_dir.joinpath(\"assign_net.pth\"))\n",
    "tracker =  MPN_Tracker(assign_net=assign_net.eval(), patience=MAX_PATIENCE)\n",
    "val_sequences = MOT16Sequences('MOT16-val', \n",
    "                        dataset_dir.joinpath('MOT16'),\n",
    "                        vis_threshold=0.25)\n",
    "results_seq = run_tracker(val_sequences, train_db, tracker, device=device)"
   ]
  },
  {
   "cell_type": "code",
   "execution_count": 35,
   "metadata": {},
   "outputs": [
    {
     "name": "stdout",
     "output_type": "stream",
     "text": [
      "              IDF1       IDP       IDR      Rcll      Prcn  GT  MT  PT  ML   FP    FN  IDs   FM      MOTA      MOTP   IDt   IDa  IDm\n",
      "MOT16-02  0.469472  0.666667  0.362306  0.522469  0.961378  62  11  38  13  390  8873  135  220  0.494215  0.094643  37.0  95.0  6.0\n",
      "MOT16-02  0.457617  0.649832  0.353156  0.522469  0.961378  62  12  37  13  390  8873  133  210  0.494322  0.090339   NaN   NaN  NaN\n",
      "Congratulations: MPN_Tracker seems to be correct for sequence MOT16-02 based on the metrics: mota idf1.\n",
      "              IDF1       IDP       IDR      Rcll      Prcn  GT  MT  PT  ML   FP    FN  IDs  FM      MOTA      MOTP   IDt   IDa  IDm\n",
      "MOT16-11  0.673076  0.742051  0.615833  0.801717  0.966032  75  44  24   7  266  1871   53  88  0.767910  0.082431  14.0  35.0  4.0\n",
      "MOT16-11  0.650489  0.717150  0.595167  0.801717  0.966032  75  44  24   7  266  1871  143  91  0.758372  0.082736   NaN   NaN  NaN\n",
      "Congratulations: MPN_Tracker seems to be correct for sequence MOT16-11 based on the metrics: mota idf1.\n",
      "Method () correctly implemented. Tests passed: 2/2\n",
      "              MOTA\n",
      "MOT16-02  0.494215\n",
      "MOT16-11  0.767910\n",
      "Your tracker MPN_Tracker reached the mean mota 0.63 on sequence MOT16-val.\n",
      "Test passed 63/100\n",
      "Score: 81/100\n"
     ]
    }
   ],
   "source": [
    "torch.save(results_seq, \"exercise_code/test/\"+tracker.name+\".pth\")\n",
    "_ = test_mpn_tracking()"
   ]
  },
  {
   "cell_type": "markdown",
   "metadata": {},
   "source": [
    "# Exercise submission"
   ]
  },
  {
   "cell_type": "code",
   "execution_count": 36,
   "metadata": {},
   "outputs": [
    {
     "name": "stdout",
     "output_type": "stream",
     "text": [
      "relevant folders: ['models', 'exercise_code']\n",
      "notebooks files: ['reid_gnn.ipynb']\n",
      "Adding folder models\n",
      "Adding folder exercise_code\n",
      "Adding notebook reid_gnn.ipynb\n",
      "Zipping successful! Zip is stored under: /home2/yehia.ahmed/cv3/cv3dst/output/exercise03.zip\n"
     ]
    }
   ],
   "source": [
    "from exercise_code.submit import submit_exercise\n",
    "\n",
    "submit_exercise('../output/exercise03')"
   ]
  },
  {
   "cell_type": "code",
   "execution_count": null,
   "metadata": {},
   "outputs": [],
   "source": []
  }
 ],
 "metadata": {
  "kernelspec": {
   "display_name": "Python 3.8.10 ('cv3')",
   "language": "python",
   "name": "python3"
  },
  "language_info": {
   "codemirror_mode": {
    "name": "ipython",
    "version": 3
   },
   "file_extension": ".py",
   "mimetype": "text/x-python",
   "name": "python",
   "nbconvert_exporter": "python",
   "pygments_lexer": "ipython3",
   "version": "3.8.10"
  },
  "vscode": {
   "interpreter": {
    "hash": "b38045e10271186d31b9c7cfcf32f44b81f9b46f72bad763493647421023d2a5"
   }
  }
 },
 "nbformat": 4,
 "nbformat_minor": 2
}
