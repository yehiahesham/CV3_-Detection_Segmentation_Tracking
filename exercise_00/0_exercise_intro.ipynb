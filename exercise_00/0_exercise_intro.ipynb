{
 "cells": [
  {
   "cell_type": "markdown",
   "metadata": {},
   "source": [
    "# Exercise 00\n",
    "## Introduction into the Exercises\n",
    "\n",
    "In the following notebooks, we will introduce you to the exercises and the submission system for *Computer Vision 3 - Detection, Segmentation*, and Tracking for the *Winter Semester 2023/24*. We prepared 3 Notebooks for you that you can work through to familiarize yourself with the workflow of the exercises during the semester. In this exercise we will guide you through setting up your working environment - either on your personal machine or in google colab.\n",
    "\n",
    "The next 2 Notebooks will introduce you to pytorch based on the official pytorch tutorials you can find [here](https://pytorch.org/tutorials/beginner/basics/intro.html). Check it out if you want an even more detailed introduction.\n",
    "\n",
    "The final notebook will setup a small training example for images. Here, you will be given the task of implementing several image augmentations on your own. You then have the opportunity to upload your submission to the test server. This exercise is **not** counted towards the grade bonus, so you do not need to worry about correct implementations.\n",
    "\n",
    "#### ❗️ INFO\n",
    "We strongly encourage you to take this opportunity to test the submission system. This is your time to ask us any questions about the exercise submission. Starting with the first exercise, we will **not** answer any questions related to the submission process itself.\n",
    "\n",
    "Let's get started"
   ]
  },
  {
   "cell_type": "markdown",
   "metadata": {},
   "source": [
    "## Setting up your python environment\n",
    "\n",
    "Before tackling pytorch and the coding exercises, we need to setup our environment first. We require quite a few different python modules throughout these exercises. Depending on whether you use `google colab` or work locally, the setup looks a bit different. As `google colab` does not support `conda` natively, we give you instructions for installing all the packages with `pip`. These instructions are repeated in each exercise script if necessary. However, we still recommend you to try it here. For a local python environment, we recommend you to use conda as installing torch via `pip` is quite tricky."
   ]
  },
  {
   "cell_type": "markdown",
   "metadata": {},
   "source": [
    "### Google Colab - pip instructions\n",
    "\n",
    "Google colab comes with a pre-installed python version (currently `3.10.12` as of the creation of these exercises) and some pre-installed packages such as *numpy*, *pandas*, *pytorch*, etc., which is already quite handy. To install the rest of the required packages, you can easily just run the code cell below. The code cell does the following:\n",
    "- mount your google drive onto your colab\n",
    "- set the working directory to be the `cv3dst` folder\n",
    "- install all packages via `pip install -r requirements.txt`"
   ]
  },
  {
   "cell_type": "code",
   "execution_count": null,
   "metadata": {},
   "outputs": [],
   "source": [
    "from google.colab import drive\n",
    "import os\n",
    "\n",
    "gdrive_path='/content/gdrive/MyDrive/cv3dst_exercise_code'\n",
    "\n",
    "# This will mount your google drive under 'MyDrive'\n",
    "drive.mount('/content/gdrive', force_remount=True)\n",
    "# In order to access the files in this notebook we have to navigate to the correct folder\n",
    "os.chdir(gdrive_path)\n",
    "# Check manually if all files are present\n",
    "print(sorted(os.listdir()))\n",
    "\n",
    "!pip install -r requirements.txt"
   ]
  },
  {
   "cell_type": "markdown",
   "metadata": {},
   "source": [
    "### Local install - conda\n",
    "\n",
    "To install the environment with conda you just have to change your working directory to the `cv3dst` folder and run\n",
    "```\n",
    "conda env create -f environment.yaml\n",
    "```\n",
    "\n",
    "Checkout the README for more detailed instructions."
   ]
  },
  {
   "cell_type": "markdown",
   "metadata": {},
   "source": [
    "### Checking the environment\n",
    "Run the following code cell to check if relevant packages were installed."
   ]
  },
  {
   "cell_type": "code",
   "execution_count": null,
   "metadata": {},
   "outputs": [],
   "source": [
    "import numpy as np\n",
    "import sklearn\n",
    "import torch\n",
    "import torchvision\n",
    "import motmetrics as mm\n",
    "import lap\n",
    "print(f\"NumPy version installed: {np.__version__}\")\n",
    "print(f\"SkLearn version installed: {sklearn.__version__}\")\n",
    "print(f\"PyTorch version installed: {torch.__version__}\")\n",
    "print(f\"Torchvision version installed: {torchvision.__version__}\")\n",
    "if not torch.__version__.startswith(\"2.0\"):\n",
    "    print(f\"you are using an another version of PyTorch. We expect PyTorch 2.0.1. You may continue using your version but it might cause dependency and compatibility issues.\")\n",
    "if not torchvision.__version__.startswith(\"0.15\"):\n",
    "    print(f\"you are using an another version of torchvision. We expect torchvision 0.15.2. You can continue with your version but it might cause dependency and compatibility issues.\")\n",
    "print(f\"motmetrics version installed: {mm.__version__}\")\n",
    "print(f\"lap version installed: {lap.__version__}\")"
   ]
  }
 ],
 "metadata": {
  "kernelspec": {
   "display_name": "Python 3.8.10 ('cv3')",
   "language": "python",
   "name": "python3"
  },
  "language_info": {
   "codemirror_mode": {
    "name": "ipython",
    "version": 3
   },
   "file_extension": ".py",
   "mimetype": "text/x-python",
   "name": "python",
   "nbconvert_exporter": "python",
   "pygments_lexer": "ipython3",
   "version": "3.10.12"
  },
  "vscode": {
   "interpreter": {
    "hash": "b38045e10271186d31b9c7cfcf32f44b81f9b46f72bad763493647421023d2a5"
   }
  }
 },
 "nbformat": 4,
 "nbformat_minor": 2
}
